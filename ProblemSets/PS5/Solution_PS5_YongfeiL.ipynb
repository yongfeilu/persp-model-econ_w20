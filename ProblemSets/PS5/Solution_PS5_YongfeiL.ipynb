{
 "cells": [
  {
   "cell_type": "markdown",
   "metadata": {},
   "source": [
    "# Problem Set 5\n",
    "## MACS 30150, Dr. Evans\n",
    "### Yongfei Lu  , Feb. 8th, 2020"
   ]
  },
  {
   "cell_type": "code",
   "execution_count": 2,
   "metadata": {},
   "outputs": [],
   "source": [
    "import numpy as np\n",
    "import pandas as pd\n",
    "import numpy.linalg as lin\n",
    "import matplotlib\n",
    "import matplotlib.pyplot as plt\n",
    "import scipy.stats as sts\n",
    "import scipy.optimize as opt\n",
    "import scipy.integrate as intgr\n"
   ]
  },
  {
   "cell_type": "markdown",
   "metadata": {},
   "source": [
    "## Problem 1\n",
    "### (a)"
   ]
  },
  {
   "cell_type": "code",
   "execution_count": 16,
   "metadata": {},
   "outputs": [
    {
     "data": {
      "image/png": "[encoded data removed]",
      "text/plain": [
       "<Figure size 432x288 with 1 Axes>"
      ]
     },
     "metadata": {
      "needs_background": "light"
     },
     "output_type": "display_data"
    }
   ],
   "source": [
    "# load the data\n",
    "pts = np.loadtxt('data/incomes.txt')\n",
    "\n",
    "# plot the histogram of incomes\n",
    "num_bins = 30\n",
    "plt.hist(pts, num_bins, density=True, edgecolor='k')\n",
    "plt.title('Annual Incomes of MACSS graduates of 2018--2020',fontsize=20)\n",
    "plt.xlabel('Incomes')\n",
    "plt.ylabel('Percent of incomes')\n",
    "plt.xlim([0, 150000])\n",
    "plt.show()"
   ]
  },
  {
   "cell_type": "markdown",
   "metadata": {},
   "source": [
    "### (b)"
   ]
  },
  {
   "cell_type": "code",
   "execution_count": 12,
   "metadata": {},
   "outputs": [],
   "source": [
    "# Define function that generates values of a normal pdf\n",
    "def trunc_lognorm_pdf(xvals, mu, sigma, cut_lb, cut_ub):\n",
    "    if cut_lb == 'None' and cut_ub == 'None':\n",
    "        prob_notcut = 0\n",
    "    elif cut_lb != 'None' and cut_ub == 'None':\n",
    "        prob_notcut = 1.0 - sts.lognorm.cdf(cut_lb, s=sigma, scale=np.exp(mu))\n",
    "    elif cut_lb == 'None' and cut_ub != 'None':\n",
    "        prob_notcut = sts.lognorm.cdf(cut_ub, s=sigma, scale=np.exp(mu))\n",
    "    elif cut_lb != 'None' and cut_ub != 'None':\n",
    "        prob_notcut = (sts.lognorm.cdf(cut_ub, s=sigma, scale=np.exp(mu)) -\n",
    "                      sts.lognorm.cdf(cut_lb, s=sigma, scale=np.exp(mu)))\n",
    "    \n",
    "    pdf_vals = ((1/(xvals * sigma * np.sqrt(2 * np.pi))\n",
    "                * np.exp( -(np.log(xvals) - mu) ** 2 / (2 * sigma **2))) /\n",
    "                prob_notcut)\n",
    "    \n",
    "    return pdf_vals\n",
    "\n",
    "\n",
    "def data_moments(xvals):\n",
    "    return xvals.mean(), xvals.std()\n",
    "\n",
    "def model_moments(mu, sigma, cut_lb, cut_ub):\n",
    "    xfx = lambda x : x * trunc_lognorm_pdf(x, mu, sigma, cut_lb, cut_ub)\n",
    "    mean_model, m_m_err = intgr.quad(xfx, cut_lb, cut_ub)\n",
    "    x2fx = lambda x : ((x - mean_model) ** 2) * trunc_lognorm_pdf(x, mu, sigma, cut_lb, cut_ub)\n",
    "    var_model, v_m_err = intgr.quad(x2fx, cut_lb, cut_ub)\n",
    "    \n",
    "    return mean_model, np.sqrt(var_model)\n",
    "\n",
    "def err_vec(xvals, mu, sigma, cut_lb, cut_ub, simple):\n",
    "    mean_data, var_data = data_moments(xvals)\n",
    "    moms_data = np.array([[mean_data], [var_data]])\n",
    "    mean_model, var_model = model_moments(mu, sigma, cut_lb, cut_ub)\n",
    "    moms_model = np.array([[mean_model], [var_model]])\n",
    "    if simple:\n",
    "        err_vec = moms_model - moms_data\n",
    "    else:\n",
    "        err_vec = (moms_model - moms_data) / moms_data\n",
    "    return err_vec\n",
    "\n",
    "def criterion(params, *args):\n",
    "    mu, sigma = params\n",
    "    xvals, cut_lb, cut_ub, W = args\n",
    "    err = err_vec(xvals, mu, sigma, cut_lb, cut_ub, simple=False)\n",
    "    crit_val = err.T @ W @ err\n",
    "    return crit_val\n",
    "\n"
   ]
  },
  {
   "cell_type": "code",
   "execution_count": 14,
   "metadata": {},
   "outputs": [
    {
     "name": "stdout",
     "output_type": "stream",
     "text": [
      "mu_GMM = 11.333599613401052  sig_GMM1 = 0.2132552950928067\n",
      "GMM Criterion Function: [[6.39928276e-16]]\n",
      "Mean of data: 85276.82360625811  Standard Deviation of data: 17992.542128046523\n",
      "Mean of model: 85276.82405854747  Standard Deviation of model: 17992.541683009\n",
      "Error vector = [ 5.3037782e-09 -2.4734555e-08]\n"
     ]
    },
    {
     "data": {
      "text/plain": [
       "      fun: array([[6.39928276e-16]])\n",
       " hess_inv: <2x2 LbfgsInvHessProduct with dtype=float64>\n",
       "      jac: array([-1.14974807e-08, -2.93649591e-08])\n",
       "  message: b'CONVERGENCE: REL_REDUCTION_OF_F_<=_FACTR*EPSMCH'\n",
       "     nfev: 45\n",
       "      nit: 10\n",
       "   status: 0\n",
       "  success: True\n",
       "        x: array([11.33359961,  0.2132553 ])"
      ]
     },
     "execution_count": 14,
     "metadata": {},
     "output_type": "execute_result"
    }
   ],
   "source": [
    "# Let's start with the identity matrix as our estimate for the optimal weighting matrix $W = I$\n",
    "mu_init = 11\n",
    "sig_init = 0.5\n",
    "params_init = np.array([mu_init, sig_init])\n",
    "W_hat = np.eye(2)\n",
    "gmm_args = (pts, 0.0, 150000.0, W_hat)\n",
    "res = opt.minimize(criterion, params_init, args=(gmm_args),\n",
    "                  tol=1e-13, method='L-BFGS-B', bounds=((None, None),(1e-10, None)))\n",
    "mu_GMM1, sig_GMM1 = res.x\n",
    "mean_data, std_data = data_moments(pts)\n",
    "mean_model, std_model = model_moments(mu_GMM1,sig_GMM1, 0.0, 150000.0)\n",
    "err1 = err_vec(pts, mu_GMM1, sig_GMM1, 0.0, 150000.0, False).reshape(2,)\n",
    "print('mu_GMM =', mu_GMM1, ' sig_GMM1 =', sig_GMM1)\n",
    "print('GMM Criterion Function:', res.fun)\n",
    "print('Mean of data:', mean_data, ' Standard Deviation of data:', std_data)\n",
    "print('Mean of model:', mean_model, ' Standard Deviation of model:', std_model)\n",
    "print('Error vector =', err1)\n",
    "res"
   ]
  },
  {
   "cell_type": "code",
   "execution_count": 15,
   "metadata": {},
   "outputs": [
    {
     "name": "stderr",
     "output_type": "stream",
     "text": [
      "/Users/luyongfei/Desktop/python/anaconda3/lib/python3.7/site-packages/ipykernel_launcher.py:14: RuntimeWarning: divide by zero encountered in true_divide\n",
      "  \n",
      "/Users/luyongfei/Desktop/python/anaconda3/lib/python3.7/site-packages/ipykernel_launcher.py:14: RuntimeWarning: divide by zero encountered in log\n",
      "  \n",
      "/Users/luyongfei/Desktop/python/anaconda3/lib/python3.7/site-packages/ipykernel_launcher.py:14: RuntimeWarning: invalid value encountered in multiply\n",
      "  \n"
     ]
    },
    {
     "data": {
      "image/png": "[encoded data removed]",
      "text/plain": [
       "<Figure size 432x288 with 1 Axes>"
      ]
     },
     "metadata": {
      "needs_background": "light"
     },
     "output_type": "display_data"
    }
   ],
   "source": [
    "# plot the pdf and histogram\n",
    "num_bins = 30\n",
    "plt.hist(pts, num_bins, density=True, edgecolor='k')\n",
    "plt.title('Annual incomes of MACSS graduates of 2018-2020', fontsize=20)\n",
    "plt.xlabel('Incomes')\n",
    "plt.ylabel('Percent of incomes')\n",
    "plt.xlim([0, 150000])\n",
    "\n",
    "dist_pts = np.linspace(0, 150000, 3000)\n",
    "plt.plot(dist_pts, trunc_lognorm_pdf(dist_pts, mu_GMM1, sig_GMM1, 0.0, 150000.0),\n",
    "        linewidth=2, color='r', label='1: $\\mu_{GMM!}$, $\\sigma_{GMM1}$')\n",
    "plt.legend(loc='upper left')\n",
    "plt.show()\n",
    "\n"
   ]
  },
  {
   "cell_type": "markdown",
   "metadata": {},
   "source": [
    "### (c)"
   ]
  },
  {
   "cell_type": "code",
   "execution_count": 17,
   "metadata": {},
   "outputs": [],
   "source": [
    "def get_Err_mat2(pts, mu, sigma, cut_lb, cut_ub, simple=False):\n",
    "    \n",
    "    R = 2\n",
    "    N = len(pts)\n",
    "    Err_mat = np.zeros((R,N))\n",
    "    mean_model, std_model = model_moments(mu, sigma, cut_lb, cut_ub)\n",
    "    if simple:\n",
    "        Err_mat[0, :] = pts - mean_model\n",
    "        Err_mat[1, :] = ((mean_data - pts) ** 2) - std_model\n",
    "    else:\n",
    "        Err_mat[0, :] = (pts - mean_data) / mean_model\n",
    "        Err_mat[1, :] = (((mean_data - pts) ** 2) - std_model) / std_model\n",
    "    \n",
    "    return Err_mat\n"
   ]
  },
  {
   "cell_type": "code",
   "execution_count": 18,
   "metadata": {},
   "outputs": [
    {
     "name": "stdout",
     "output_type": "stream",
     "text": [
      "[[4.45167060e-02 1.68385297e+03]\n",
      " [1.68385297e+03 9.54184437e+08]]\n",
      "[[ 2.40701670e+01 -4.24767168e-05]\n",
      " [-4.24767168e-05  1.12297424e-09]]\n"
     ]
    }
   ],
   "source": [
    "Err_mat = get_Err_mat2(pts, mu_GMM1, sig_GMM1, 0.0, 150000.0, False)\n",
    "VCV2 = (1/pts.shape[0]) * (Err_mat @ Err_mat.T)\n",
    "print(VCV2)\n",
    "W_hat2 = lin.inv(VCV2)\n",
    "print(W_hat2)"
   ]
  },
  {
   "cell_type": "code",
   "execution_count": 22,
   "metadata": {},
   "outputs": [
    {
     "name": "stdout",
     "output_type": "stream",
     "text": [
      "mu_GMM2 = 11.333599603618694  sig_GMM2 = 0.21325529447620906\n",
      "GMM criterion function: [[4.28528536e-16]]\n",
      "Mean of data = 85276.82360625811 , Standard Deviation of data = 17992.542128046523\n",
      "Mean of model 2 = 85276.8232464362 , Standard Deviation of model 2 = 17992.541506074136\n",
      "Error vector= [-4.21945734e-09 -3.45683441e-08]\n"
     ]
    }
   ],
   "source": [
    "gmm_args = (pts, 0.0, 150000.0, W_hat2)\n",
    "params_init = np.array([mu_GMM1, sig_GMM1])\n",
    "res2 = opt.minimize(criterion, params_init, args = (gmm_args), tol=1e-14,\n",
    "                   method='L-BFGS-B', bounds=((None, None), (1e-10, None)))\n",
    "mu_GMM2, sig_GMM2 = res2.x\n",
    "print('mu_GMM2 =', mu_GMM2, ' sig_GMM2 =', sig_GMM2)\n",
    "print('GMM criterion function:',res2.fun)\n",
    "mean_model2, std_model2 = model_moments(mu_GMM2, sig_GMM2, 0.0, 150000.0)\n",
    "err2 = err_vec(pts, mu_GMM2, sig_GMM2, 0.0, 150000.0, False).reshape(2,)\n",
    "print('Mean of data =', mean_data, ', Standard Deviation of data =', std_data)\n",
    "print('Mean of model 2 =', mean_model2, ', Standard Deviation of model 2 =', std_model2)\n",
    "print('Error vector=', err2)"
   ]
  },
  {
   "cell_type": "code",
   "execution_count": 25,
   "metadata": {},
   "outputs": [
    {
     "name": "stderr",
     "output_type": "stream",
     "text": [
      "/Users/luyongfei/Desktop/python/anaconda3/lib/python3.7/site-packages/ipykernel_launcher.py:14: RuntimeWarning: divide by zero encountered in true_divide\n",
      "  \n",
      "/Users/luyongfei/Desktop/python/anaconda3/lib/python3.7/site-packages/ipykernel_launcher.py:14: RuntimeWarning: divide by zero encountered in log\n",
      "  \n",
      "/Users/luyongfei/Desktop/python/anaconda3/lib/python3.7/site-packages/ipykernel_launcher.py:14: RuntimeWarning: invalid value encountered in multiply\n",
      "  \n"
     ]
    },
    {
     "data": {
      "image/png": "[encoded data removed]",
      "text/plain": [
       "<Figure size 432x288 with 1 Axes>"
      ]
     },
     "metadata": {
      "needs_background": "light"
     },
     "output_type": "display_data"
    }
   ],
   "source": [
    "# plot the histogram and pdf of GMM1 and GMM2\n",
    "num_bins = 30\n",
    "plt.hist(pts, num_bins, density=True, edgecolor='k')\n",
    "plt.title('Annual incomes of MACSS graduates in 2018-2020', fontsize=20) \n",
    "plt.xlabel('Incomes')\n",
    "plt.ylabel('Percent of incomes')\n",
    "plt.xlim([0, 150000])\n",
    "\n",
    "# GMM1\n",
    "plt.plot(dist_pts, trunc_lognorm_pdf(dist_pts, mu_GMM1, sig_GMM1, 0.0, 150000.0),\n",
    "        linewidth=2, color='r', label='1: $\\mu_{GMM1}$,$\\sigma_{GMM1}$')\n",
    "#GMM2\n",
    "plt.plot(dist_pts, trunc_lognorm_pdf(dist_pts, mu_GMM2, sig_GMM2, 0.0, 150000.0),\n",
    "        linewidth=2, color='g', label='2: $\\mu_{GMM2}$,$\\sigma_{GMM2}$')\n",
    "\n",
    "plt.legend(loc='upper left')\n",
    "plt.show()"
   ]
  },
  {
   "cell_type": "markdown",
   "metadata": {},
   "source": [
    "### (d)"
   ]
  },
  {
   "cell_type": "code",
   "execution_count": 29,
   "metadata": {},
   "outputs": [],
   "source": [
    "def data_moments3(xvals):\n",
    "    bpct_1_dat = xvals[xvals < 75000].shape[0] / xvals.shape[0]\n",
    "    bpct_2_dat = xvals[(xvals >= 75000) & (xvals <= 100000)].shape[0] / xvals.shape[0]\n",
    "    bpct_3_dat = xvals[xvals > 100000].shape[0] / xvals.shape[0]\n",
    "    \n",
    "    return bpct_1_dat, bpct_2_dat, bpct_3_dat\n",
    "\n",
    "def model_moments3(mu, sigma, cut_lb, cut_ub):\n",
    "    xfx = lambda x: trunc_lognorm_pdf(x, mu, sigma, cut_lb, cut_ub)\n",
    "    bpct_1_mod, bp_1_err = intgr.quad(xfx, 0.0, 75000)\n",
    "    bpct_2_mod, bp_2_err = intgr.quad(xfx, 75000, 100000)\n",
    "    bpct_3_mod, bp_3_err = intgr.quad(xfx, 100000, 150000)\n",
    "    \n",
    "    return bpct_1_mod, bpct_2_mod, bpct_3_mod\n",
    "\n",
    "def err_vec3(xvals, mu, sigma, cut_lb, cut_ub, simple):\n",
    "    bpct_1_dat, bpct_2_dat, bpct_3_dat = data_moments3(xvals)\n",
    "    moms_data = np.array([[bpct_1_dat], [bpct_2_dat], [bpct_3_dat]])\n",
    "    bpct_1_mod, bpct_2_mod, bpct_3_mod = model_moments3(mu, sigma, cut_lb, cut_ub)\n",
    "    moms_model = np.array([[bpct_1_mod], [bpct_2_mod], [bpct_3_mod]])\n",
    "    if simple:\n",
    "        err_vec = moms_model - moms_data\n",
    "    else:\n",
    "        err_vec = (moms_model - moms_data) / moms_data\n",
    "    \n",
    "    return err_vec\n",
    "\n",
    "def criterion3(params, *args):\n",
    "    mu, sigma = params\n",
    "    xvals, cut_lb, cut_ub, W = args\n",
    "    err = err_vec3(xvals, mu, sigma, cut_lb, cut_ub, simple=False)\n",
    "    crit_val = err.T @ W @ err \n",
    "    \n",
    "    return crit_val\n",
    " "
   ]
  },
  {
   "cell_type": "code",
   "execution_count": 36,
   "metadata": {},
   "outputs": [
    {
     "name": "stdout",
     "output_type": "stream",
     "text": [
      "mu_GMM1_3 = 11.336705179923449  sig_GMM1_3 = 0.21151351610769975\n",
      "GMM criterion function: [[2.44369978e-15]]\n",
      "Error vector: [ 1.13768317e-08  1.18261299e-08 -4.66305708e-08]\n"
     ]
    },
    {
     "data": {
      "text/html": [
       "<div>\n",
       "<style scoped>\n",
       "    .dataframe tbody tr th:only-of-type {\n",
       "        vertical-align: middle;\n",
       "    }\n",
       "\n",
       "    .dataframe tbody tr th {\n",
       "        vertical-align: top;\n",
       "    }\n",
       "\n",
       "    .dataframe thead th {\n",
       "        text-align: right;\n",
       "    }\n",
       "</style>\n",
       "<table border=\"1\" class=\"dataframe\">\n",
       "  <thead>\n",
       "    <tr style=\"text-align: right;\">\n",
       "      <th></th>\n",
       "      <th>Data Moments</th>\n",
       "      <th>Model Moments</th>\n",
       "    </tr>\n",
       "  </thead>\n",
       "  <tbody>\n",
       "    <tr>\n",
       "      <th>Percent &lt;75000</th>\n",
       "      <td>0.3</td>\n",
       "      <td>0.3</td>\n",
       "    </tr>\n",
       "    <tr>\n",
       "      <th>Percent 75000~100000</th>\n",
       "      <td>0.5</td>\n",
       "      <td>0.5</td>\n",
       "    </tr>\n",
       "    <tr>\n",
       "      <th>Percent &gt;=100000</th>\n",
       "      <td>0.2</td>\n",
       "      <td>0.2</td>\n",
       "    </tr>\n",
       "  </tbody>\n",
       "</table>\n",
       "</div>"
      ],
      "text/plain": [
       "                      Data Moments  Model Moments\n",
       "Percent <75000                 0.3            0.3\n",
       "Percent 75000~100000           0.5            0.5\n",
       "Percent >=100000               0.2            0.2"
      ]
     },
     "execution_count": 36,
     "metadata": {},
     "output_type": "execute_result"
    }
   ],
   "source": [
    "# estimate the lognormal PDF to fit the data by GMM\n",
    "W_hat1_3 = np.eye(3)\n",
    "gmm_args = (pts, 0.0, 150000.0, W_hat1_3)\n",
    "res3 = opt.minimize(criterion3, params_init, args=(gmm_args),\n",
    "                   method='L-BFGS-B', bounds=((1e-10, None),(1e-10, None)))\n",
    "mu_GMM1_3, sig_GMM1_3 = res3.x\n",
    "print('mu_GMM1_3 =', mu_GMM1_3, ' sig_GMM1_3 =', sig_GMM1_3)\n",
    "print('GMM criterion function:',res3.fun)\n",
    "err3 = err_vec3(pts, mu_GMM1_3, sig_GMM1_3, 0.0, 150000.0, False).reshape(3,)\n",
    "print('Error vector:', err3)\n",
    "\n",
    "bpct_1_dat, bpct_2_dat, bpct_3_dat = data_moments3(pts)\n",
    "pert1, pert2, pert3 = model_moments3(mu_GMM3, sig_GMM1_3, 0.0, 150000.0)\n",
    "bpct = np.array([bpct_1_dat, bpct_2_dat, bpct_3_dat])\n",
    "pert = np.array([pert1, pert2, pert3])\n",
    "df = pd.DataFrame({'Data Moments': bpct, 'Model Moments':pert},\n",
    "                 index = ['Percent <75000','Percent 75000~100000','Percent >=100000'])\n",
    "\n",
    "df"
   ]
  },
  {
   "cell_type": "code",
   "execution_count": 44,
   "metadata": {},
   "outputs": [
    {
     "name": "stderr",
     "output_type": "stream",
     "text": [
      "/Users/luyongfei/Desktop/python/anaconda3/lib/python3.7/site-packages/ipykernel_launcher.py:14: RuntimeWarning: divide by zero encountered in true_divide\n",
      "  \n",
      "/Users/luyongfei/Desktop/python/anaconda3/lib/python3.7/site-packages/ipykernel_launcher.py:14: RuntimeWarning: divide by zero encountered in log\n",
      "  \n",
      "/Users/luyongfei/Desktop/python/anaconda3/lib/python3.7/site-packages/ipykernel_launcher.py:14: RuntimeWarning: invalid value encountered in multiply\n",
      "  \n"
     ]
    },
    {
     "data": {
      "image/png": "[encoded data removed]",
      "text/plain": [
       "<Figure size 432x288 with 1 Axes>"
      ]
     },
     "metadata": {
      "needs_background": "light"
     },
     "output_type": "display_data"
    }
   ],
   "source": [
    "# plot the GMM PDF against the histogram \n",
    "\n",
    "num_bins = 30\n",
    "plt.hist(pts, num_bins, density=True, edgecolor='k')\n",
    "plt.title('Annual Incomes of MACSS Graduates in 2018-2020', fontsize=20)\n",
    "plt.xlabel('Annual Income')\n",
    "plt.ylabel('Percent of Incomes')\n",
    "plt.xlim([0, 150000])\n",
    "\n",
    "plt.plot(dist_pts, trunc_lognorm_pdf(dist_pts, mu_GMM1_3, sig_GMM1_3, 0.0, 150000.0),\n",
    "        linewidth=2, color='r', label = '1: $\\mu_{GMM3}$,$\\sigma_{GMM3}$')\n",
    "plt.legend(loc='upper left')\n",
    "plt.show()"
   ]
  },
  {
   "cell_type": "markdown",
   "metadata": {},
   "source": [
    "### (e)"
   ]
  },
  {
   "cell_type": "code",
   "execution_count": 45,
   "metadata": {},
   "outputs": [],
   "source": [
    "def get_Err_mat3(xvals, mu, sigma, cut_lb, cut_ub, simple=False):\n",
    "    R = 3\n",
    "    N = len(pts)\n",
    "    Err_mat = np.zeros((R, N))\n",
    "    pct_1_mod, pct_2_mod, pct_3_mod = \\\n",
    "        model_moments3(mu, sigma, cut_lb, cut_ub)\n",
    "    if simple:\n",
    "        pts_in_grp1 = pts < 75000\n",
    "        Err_mat[0, :] = pts_in_grp1 - pct_1_mod\n",
    "        pts_in_grp2 = (pts >= 75000) & (pts <= 100000)\n",
    "        Err_mat[1, :] = pts_in_grp2 - pct_2_mod\n",
    "        pts_in_grp3 = pts > 100000\n",
    "        Err_mat[2, :] = pts_in_grp3 - pct_3_mod\n",
    "    else:\n",
    "        pts_in_grp1 = pts < 75000\n",
    "        Err_mat[0, :] = (pts_in_grp1 - pct_1_mod) / pct_1_mod\n",
    "        pts_in_grp2 = (pts >= 75000) & (pts <= 100000)\n",
    "        Err_mat[1, :] = (pts_in_grp2 - pct_2_mod) / pct_2_mod\n",
    "        pts_in_grp3 = pts > 100000\n",
    "        Err_mat[2, :] = (pts_in_grp3 - pct_3_mod) / pct_3_mod\n",
    "    \n",
    "    return Err_mat"
   ]
  },
  {
   "cell_type": "code",
   "execution_count": 51,
   "metadata": {},
   "outputs": [
    {
     "name": "stdout",
     "output_type": "stream",
     "text": [
      "VCV2_3:\n",
      " [[ 2.33333328 -0.99999998 -1.00000004]\n",
      " [-0.99999998  0.99999998 -1.00000003]\n",
      " [-1.00000004 -1.00000003  4.00000037]]\n",
      "W_hat2_3:\n",
      " [[ 0.25761773 -0.14958449 -0.01246537]\n",
      " [-0.14958449  0.11911357 -0.07340719]\n",
      " [-0.01246537 -0.07340719  0.20221605]]\n"
     ]
    }
   ],
   "source": [
    "Err_mat3 = get_Err_mat3(pts, mu_GMM1_3, sig_GMM1_3, 0.0, 150000.0, False)\n",
    "VCV2_3 = (1 / pts.shape[0]) * (Err_mat3 @ Err_mat3.T)\n",
    "print('VCV2_3:\\n',VCV2_3)\n",
    "# We use the pseudo-inverse command here because the VCV matrix is poorly conditioned\n",
    "W_hat2_3 = lin.pinv(VCV2_3)\n",
    "print('W_hat2_3:\\n', W_hat2_3)\n"
   ]
  },
  {
   "cell_type": "code",
   "execution_count": 59,
   "metadata": {},
   "outputs": [
    {
     "name": "stdout",
     "output_type": "stream",
     "text": [
      "mu_GMM2_3 =  11.336705179923449  sig_GMM2_3 =  0.21151351610769975\n",
      "Error vector =  [ 1.13768317e-08  1.18261299e-08 -4.66305708e-08]\n",
      "GMM criterion function: [[5.43640343e-16]]\n"
     ]
    },
    {
     "data": {
      "text/html": [
       "<div>\n",
       "<style scoped>\n",
       "    .dataframe tbody tr th:only-of-type {\n",
       "        vertical-align: middle;\n",
       "    }\n",
       "\n",
       "    .dataframe tbody tr th {\n",
       "        vertical-align: top;\n",
       "    }\n",
       "\n",
       "    .dataframe thead th {\n",
       "        text-align: right;\n",
       "    }\n",
       "</style>\n",
       "<table border=\"1\" class=\"dataframe\">\n",
       "  <thead>\n",
       "    <tr style=\"text-align: right;\">\n",
       "      <th></th>\n",
       "      <th>Data Moments</th>\n",
       "      <th>Model Moments</th>\n",
       "    </tr>\n",
       "  </thead>\n",
       "  <tbody>\n",
       "    <tr>\n",
       "      <th>Percent &lt;75000</th>\n",
       "      <td>0.3</td>\n",
       "      <td>0.3</td>\n",
       "    </tr>\n",
       "    <tr>\n",
       "      <th>Percent 75000~100000</th>\n",
       "      <td>0.5</td>\n",
       "      <td>0.5</td>\n",
       "    </tr>\n",
       "    <tr>\n",
       "      <th>Percent &gt; = 100000</th>\n",
       "      <td>0.2</td>\n",
       "      <td>0.2</td>\n",
       "    </tr>\n",
       "  </tbody>\n",
       "</table>\n",
       "</div>"
      ],
      "text/plain": [
       "                      Data Moments  Model Moments\n",
       "Percent <75000                 0.3            0.3\n",
       "Percent 75000~100000           0.5            0.5\n",
       "Percent > = 100000             0.2            0.2"
      ]
     },
     "execution_count": 59,
     "metadata": {},
     "output_type": "execute_result"
    }
   ],
   "source": [
    "gmm_args = (pts, 0.0, 150000.0, W_hat2_3)\n",
    "params_init = np.array([mu_GMM1_3, sig_GMM1_3])\n",
    "res4 = opt.minimize(criterion3, params_init, args=(gmm_args),\n",
    "                   method='L-BFGS-B', bounds=((1e-10, None),(1e-10, None)))\n",
    "mu_GMM2_3, sig_GMM2_3 = res4.x\n",
    "print('mu_GMM2_3 = ', mu_GMM2_3, ' sig_GMM2_3 = ', sig_GMM2_3)\n",
    "err3 = err_vec3(pts, mu_GMM2_3, sig_GMM2_3, 0.0, 150000.0, False).reshape(3,)\n",
    "\n",
    "pert1, pert2, pert3 = model_moments3(mu_GMM2_3, sig_GMM2_3, 0.0, 150000.0)\n",
    "\n",
    "print('Error vector = ', err3)\n",
    "print('GMM criterion function:',res4.fun)\n",
    "\n",
    "bpct = np.array([bpct_1_dat, bpct_2_dat, bpct_3_dat])\n",
    "pert = np.array([pert1, pert2, pert3])\n",
    "df1 = pd.DataFrame({'Data Moments': bpct, 'Model Moments': pert},\n",
    "                  index = ['Percent <75000','Percent 75000~100000','Percent > = 100000']).astype(float)\n",
    "df1"
   ]
  },
  {
   "cell_type": "code",
   "execution_count": 57,
   "metadata": {},
   "outputs": [
    {
     "name": "stderr",
     "output_type": "stream",
     "text": [
      "/Users/luyongfei/Desktop/python/anaconda3/lib/python3.7/site-packages/ipykernel_launcher.py:14: RuntimeWarning: divide by zero encountered in true_divide\n",
      "  \n",
      "/Users/luyongfei/Desktop/python/anaconda3/lib/python3.7/site-packages/ipykernel_launcher.py:14: RuntimeWarning: divide by zero encountered in log\n",
      "  \n",
      "/Users/luyongfei/Desktop/python/anaconda3/lib/python3.7/site-packages/ipykernel_launcher.py:14: RuntimeWarning: invalid value encountered in multiply\n",
      "  \n"
     ]
    },
    {
     "data": {
      "image/png": "[encoded data removed]",
      "text/plain": [
       "<Figure size 432x288 with 1 Axes>"
      ]
     },
     "metadata": {
      "needs_background": "light"
     },
     "output_type": "display_data"
    }
   ],
   "source": [
    "# plot\n",
    "num_bins = 30\n",
    "plt.hist(pts, num_bins, density=True, edgecolor='k')\n",
    "plt.title('Annual incomes of MACSS graduates of 2018-2020', fontsize=20) \n",
    "plt.xlabel('Incomes')\n",
    "plt.ylabel('Percent of incomes')\n",
    "plt.xlim([0, 150000])\n",
    "\n",
    "plt.plot(dist_pts, trunc_lognorm_pdf(dist_pts, mu_GMM2_3, sig_GMM2_3, 0.0, 150000),\n",
    "         linewidth = 2, color = 'r', label = '1: $\\mu_{GMM2-3}$,$\\sigma_{GMM2-3}$')\n",
    "plt.legend(loc = 'upper left')\n",
    "plt.show()"
   ]
  },
  {
   "cell_type": "markdown",
   "metadata": {},
   "source": [
    "### (f)"
   ]
  },
  {
   "cell_type": "code",
   "execution_count": 63,
   "metadata": {},
   "outputs": [
    {
     "data": {
      "text/html": [
       "<div>\n",
       "<style scoped>\n",
       "    .dataframe tbody tr th:only-of-type {\n",
       "        vertical-align: middle;\n",
       "    }\n",
       "\n",
       "    .dataframe tbody tr th {\n",
       "        vertical-align: top;\n",
       "    }\n",
       "\n",
       "    .dataframe thead th {\n",
       "        text-align: right;\n",
       "    }\n",
       "</style>\n",
       "<table border=\"1\" class=\"dataframe\">\n",
       "  <thead>\n",
       "    <tr style=\"text-align: right;\">\n",
       "      <th></th>\n",
       "      <th>mu</th>\n",
       "      <th>sigma</th>\n",
       "      <th>GMM Fn Value</th>\n",
       "    </tr>\n",
       "  </thead>\n",
       "  <tbody>\n",
       "    <tr>\n",
       "      <th>2 moments &amp; Identity Matrix</th>\n",
       "      <td>11.333600</td>\n",
       "      <td>0.213255</td>\n",
       "      <td>6.399283e-16</td>\n",
       "    </tr>\n",
       "    <tr>\n",
       "      <th>2 moments &amp; Weighting Matrix</th>\n",
       "      <td>11.333600</td>\n",
       "      <td>0.213255</td>\n",
       "      <td>4.285285e-16</td>\n",
       "    </tr>\n",
       "    <tr>\n",
       "      <th>3 moments &amp; Identity Matrix</th>\n",
       "      <td>11.336705</td>\n",
       "      <td>0.211514</td>\n",
       "      <td>2.443700e-15</td>\n",
       "    </tr>\n",
       "    <tr>\n",
       "      <th>3 moments &amp; Weighting Matrix</th>\n",
       "      <td>11.336705</td>\n",
       "      <td>0.211514</td>\n",
       "      <td>5.436403e-16</td>\n",
       "    </tr>\n",
       "  </tbody>\n",
       "</table>\n",
       "</div>"
      ],
      "text/plain": [
       "                                     mu     sigma  GMM Fn Value\n",
       "2 moments & Identity Matrix   11.333600  0.213255  6.399283e-16\n",
       "2 moments & Weighting Matrix  11.333600  0.213255  4.285285e-16\n",
       "3 moments & Identity Matrix   11.336705  0.211514  2.443700e-15\n",
       "3 moments & Weighting Matrix  11.336705  0.211514  5.436403e-16"
      ]
     },
     "execution_count": 63,
     "metadata": {},
     "output_type": "execute_result"
    }
   ],
   "source": [
    "mus=[mu_GMM1,mu_GMM2,mu_GMM1_3,mu_GMM2_3]\n",
    "sigs=[sig_GMM1,sig_GMM2,sig_GMM1_3,sig_GMM2_3]\n",
    "GMMV=[res.fun,res2.fun,res3.fun,res4.fun]\n",
    "\n",
    "pd.DataFrame({\"mu\":mus,\"sigma\":sigs,\"GMM Fn Value\":GMMV}\n",
    "            ,index=['2 moments & Identity Matrix','2 moments & Weighting Matrix',\n",
    "                   '3 moments & Identity Matrix','3 moments & Weighting Matrix']).astype(float)\n",
    "\n"
   ]
  },
  {
   "cell_type": "markdown",
   "metadata": {},
   "source": [
    "The best fitting model is the one from (c) as it has the smallest minimized GMM function value. This model uses the average and standard deviation of income as two moments with two-step optimal weighting matrix."
   ]
  },
  {
   "cell_type": "markdown",
   "metadata": {},
   "source": [
    "## Problem 2"
   ]
  },
  {
   "cell_type": "code",
   "execution_count": 64,
   "metadata": {},
   "outputs": [
    {
     "data": {
      "text/html": [
       "<div>\n",
       "<style scoped>\n",
       "    .dataframe tbody tr th:only-of-type {\n",
       "        vertical-align: middle;\n",
       "    }\n",
       "\n",
       "    .dataframe tbody tr th {\n",
       "        vertical-align: top;\n",
       "    }\n",
       "\n",
       "    .dataframe thead th {\n",
       "        text-align: right;\n",
       "    }\n",
       "</style>\n",
       "<table border=\"1\" class=\"dataframe\">\n",
       "  <thead>\n",
       "    <tr style=\"text-align: right;\">\n",
       "      <th></th>\n",
       "      <th>sick</th>\n",
       "      <th>age</th>\n",
       "      <th>children</th>\n",
       "      <th>avgtemp_winter</th>\n",
       "    </tr>\n",
       "  </thead>\n",
       "  <tbody>\n",
       "    <tr>\n",
       "      <th>0</th>\n",
       "      <td>1.67</td>\n",
       "      <td>57.47</td>\n",
       "      <td>3.04</td>\n",
       "      <td>54.10</td>\n",
       "    </tr>\n",
       "    <tr>\n",
       "      <th>1</th>\n",
       "      <td>0.71</td>\n",
       "      <td>26.77</td>\n",
       "      <td>1.20</td>\n",
       "      <td>36.54</td>\n",
       "    </tr>\n",
       "    <tr>\n",
       "      <th>2</th>\n",
       "      <td>1.39</td>\n",
       "      <td>41.85</td>\n",
       "      <td>2.31</td>\n",
       "      <td>32.38</td>\n",
       "    </tr>\n",
       "    <tr>\n",
       "      <th>3</th>\n",
       "      <td>1.37</td>\n",
       "      <td>51.27</td>\n",
       "      <td>2.46</td>\n",
       "      <td>52.94</td>\n",
       "    </tr>\n",
       "    <tr>\n",
       "      <th>4</th>\n",
       "      <td>1.45</td>\n",
       "      <td>44.22</td>\n",
       "      <td>2.72</td>\n",
       "      <td>45.90</td>\n",
       "    </tr>\n",
       "  </tbody>\n",
       "</table>\n",
       "</div>"
      ],
      "text/plain": [
       "   sick    age  children  avgtemp_winter\n",
       "0  1.67  57.47      3.04           54.10\n",
       "1  0.71  26.77      1.20           36.54\n",
       "2  1.39  41.85      2.31           32.38\n",
       "3  1.37  51.27      2.46           52.94\n",
       "4  1.45  44.22      2.72           45.90"
      ]
     },
     "execution_count": 64,
     "metadata": {},
     "output_type": "execute_result"
    }
   ],
   "source": [
    "df = pd.read_csv('data/sick.txt').astype('float64')\n",
    "df.head()"
   ]
  },
  {
   "cell_type": "code",
   "execution_count": 69,
   "metadata": {},
   "outputs": [
    {
     "name": "stdout",
     "output_type": "stream",
     "text": [
      "b0= 0.2516448636180223\n",
      "b1= 0.012933469667256711\n",
      "b2= 0.40050098511048643\n",
      "b3= -0.009991708483433188\n",
      "GMM criterion function: 0.00182128980560192\n"
     ]
    },
    {
     "data": {
      "text/plain": [
       "      fun: 0.00182128980560192\n",
       " hess_inv: <4x4 LbfgsInvHessProduct with dtype=float64>\n",
       "      jac: array([ 9.24152248e-07, -7.29841534e-07, -8.86870872e-06,  9.29985255e-07])\n",
       "  message: b'CONVERGENCE: REL_REDUCTION_OF_F_<=_FACTR*EPSMCH'\n",
       "     nfev: 235\n",
       "      nit: 14\n",
       "   status: 0\n",
       "  success: True\n",
       "        x: array([ 0.25164486,  0.01293347,  0.40050099, -0.00999171])"
      ]
     },
     "execution_count": 69,
     "metadata": {},
     "output_type": "execute_result"
    }
   ],
   "source": [
    "def err_vec_ln(df, b0, b1, b2, b3):\n",
    "    yhat = b0 + b1 * df.age + b2 * df.children + b3 * df.avgtemp_winter\n",
    "    y = df.sick\n",
    "    return yhat - y\n",
    "\n",
    "def crit(params, *args):\n",
    "    b0, b1, b2, b3 = params\n",
    "    df, W = args\n",
    "    err = err_vec_ln(df, b0, b1, b2, b3)\n",
    "    crit_val = err.T @ W @ err\n",
    "    return crit_val\n",
    "\n",
    "params_init = np.array([1, 0, 0, 0])\n",
    "W_hat = np.eye(df.shape[0])\n",
    "gmm_args = (df, W_hat)\n",
    "res = opt.minimize(crit, params_init, args=(gmm_args), tol=1e-14, method='L-BFGS-B')\n",
    "b0, b1, b2, b3 = res.x\n",
    "b0, b1, b2, b3 = res.x\n",
    "print(\"b0=\", b0)\n",
    "print(\"b1=\", b1)\n",
    "print(\"b2=\", b2)\n",
    "print(\"b3=\", b3)\n",
    "print('GMM criterion function:', res.fun)\n",
    "res"
   ]
  }
 ],
 "metadata": {
  "kernelspec": {
   "display_name": "Python 3",
   "language": "python",
   "name": "python3"
  },
  "language_info": {
   "codemirror_mode": {
    "name": "ipython",
    "version": 3
   },
   "file_extension": ".py",
   "mimetype": "text/x-python",
   "name": "python",
   "nbconvert_exporter": "python",
   "pygments_lexer": "ipython3",
   "version": "3.7.3"
  }
 },
 "nbformat": 4,
 "nbformat_minor": 2
}
