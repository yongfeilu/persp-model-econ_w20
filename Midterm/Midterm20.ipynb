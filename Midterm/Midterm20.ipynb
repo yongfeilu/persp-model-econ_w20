{
 "cells": [
  {
   "cell_type": "markdown",
   "metadata": {},
   "source": [
    "# Midterm (MACS 30150), February 10, 2020 [20 points total]\n",
    "### Yongfei Lu\n",
    "You will have an hour and fifty minutes to take this exam.\n",
    "1. Put your name in the space provided above (without the brackets).\n",
    "2. Download this notebook and accompanying data `data/hh_inc_synth.txt` and images `images/hist_inc_2.png`.\n",
    "3. The class will disconnect their wi-fi and begin taking the exam.\n",
    "4. The exam is open computer, closed internet, open note.\n",
    "5. Once you are done, you will signal to a TA or instructor to come over and monitor while you reconnect to the internet and upload your edited notebook to Canvas.\n",
    "\n",
    "Remember that you must clearly indicate your answers to all questions below. We will give partial credit for partially correct answers. The midterm is worth 20 points (2 problem sets)."
   ]
  },
  {
   "cell_type": "markdown",
   "metadata": {},
   "source": [
    "# 1. Numerical Integration [10 points total]\n",
    "Assume that the distribution of household income (in U.S. dollars \\\\$) is characterized by the two-parameter gamma (GA) distribution (similar to the log normal distribution). The following is the probability density function (PDF) of the gamma (GA) distribution, which tells you the probability density of variable $x$ for given values of parameters $\\alpha$ and $\\beta$.\n",
    "\n",
    "\\begin{equation*}\n",
    "\\begin{split}\n",
    "&\\text{(GA):}\\quad f(x;\\alpha,\\beta) = \\frac{1}{\\beta^\\alpha \\Gamma(\\alpha)}x^{\\alpha-1}e^{-\\frac{x}{\\beta}}, \\quad x>0, \\:\\alpha,\\beta>0 \\\\\n",
    "&\\quad\\quad \\text{where}\\quad \\Gamma(z)\\equiv\\int_0^\\infty t^{z-1}e^{-t}dt\n",
    "\\end{split}\n",
    "\\end{equation*}\n",
    "\n",
    "Some code for the PDF of the gamma (GA) distribution is the following."
   ]
  },
  {
   "cell_type": "code",
   "execution_count": 58,
   "metadata": {},
   "outputs": [],
   "source": [
    "import numpy as np\n",
    "import scipy.special as spc\n",
    "\n",
    "def GA_pdf(xvals, alpha, beta):\n",
    "    '''\n",
    "    --------------------------------------------------------------------\n",
    "    Returns the PDF values from the two-parameter gamma (GA)\n",
    "    distribution. See McDonald and Xu (1995).\n",
    "\n",
    "    (GA): f(x; alpha, beta) = (1 / ((beta ** alpha) *\n",
    "        spc.gamma(alpha))) * (x ** (alpha - 1)) * (e ** (-x / beta))\n",
    "    x in [0, infty), alpha, beta > 0\n",
    "    --------------------------------------------------------------------\n",
    "    INPUTS:\n",
    "    xvals = (N,) vector, values in the support of gamma distribution\n",
    "    alpha = scalar > 0, gamma distribution parameter\n",
    "    beta  = scalar > 0, gamma distribution parameter\n",
    "\n",
    "    OTHER FUNCTIONS AND FILES CALLED BY THIS FUNCTION:\n",
    "        spc.gamma()\n",
    "\n",
    "    OBJECTS CREATED WITHIN FUNCTION:\n",
    "    pdf_vals = (N,) vector, pdf values from gamma distribution\n",
    "               corresponding to xvals given parameters alpha and beta\n",
    "\n",
    "    FILES CREATED BY THIS FUNCTION: None\n",
    "\n",
    "    RETURNS: pdf_vals\n",
    "    --------------------------------------------------------------------\n",
    "    '''\n",
    "    pdf_vals = \\\n",
    "        np.float64((1 / ((beta ** alpha) * spc.gamma(alpha))) *\n",
    "                   (xvals ** (alpha - 1)) * np.exp(-xvals / beta))\n",
    "\n",
    "    return pdf_vals"
   ]
  },
  {
   "cell_type": "markdown",
   "metadata": {},
   "source": [
    "As a final suggestion for numerical approximations of integrals that use this `GA_pdf()` function, you can integrate this with a `lambda function` in which the `alpha` and `beta` are hard coded. For parts (b) and (c), one approach might be to define a `lambda` function like the following and use that as your input function for the `quad` command in part (c) or any of your Newton-Cotes methods in part (b)."
   ]
  },
  {
   "cell_type": "code",
   "execution_count": 59,
   "metadata": {},
   "outputs": [],
   "source": [
    "GApdf = lambda x: GA_pdf(x, alpha_1a, beta_1a)"
   ]
  },
  {
   "cell_type": "markdown",
   "metadata": {},
   "source": [
    "## 1a) Plot the GA distribution of income [2 points]\n",
    "Assume that the GA distribution coefficient values are $\\alpha=1.23$ and $\\beta=54,649.9$. Use Python to plot the GA PDF of income using 1,000 equally spaced income values between `1e-7` and \\\\$350,000 and using the `GA_pdf()` function above. Make sure your plot has an $x$-axis labeled \"income\" and a $y$-axis labeled \"density\"."
   ]
  },
  {
   "cell_type": "code",
   "execution_count": 60,
   "metadata": {},
   "outputs": [],
   "source": [
    "from matplotlib import pyplot as plt"
   ]
  },
  {
   "cell_type": "code",
   "execution_count": 61,
   "metadata": {},
   "outputs": [
    {
     "data": {
      "image/png": "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\n",
      "text/plain": [
       "<Figure size 432x288 with 1 Axes>"
      ]
     },
     "metadata": {
      "needs_background": "light"
     },
     "output_type": "display_data"
    }
   ],
   "source": [
    "alpha_1a, beta_1a = 1.23, 54649.9\n",
    "xs = np.linspace(1e-7, 350000, 1000)\n",
    "plt.plot(xs, GA_pdf(xs, alpha_1a, beta_1a), label='GA_pdf()')\n",
    "plt.title('plot of GA_pdf(x)')\n",
    "plt.xlabel('income')\n",
    "plt.ylabel('density')\n",
    "plt.legend()\n",
    "plt.show()"
   ]
  },
  {
   "cell_type": "markdown",
   "metadata": {},
   "source": [
    "## 1b) Midpoint, trapezoid, and Simpson's rule [5 points]\n",
    "Assuming $\\alpha=1.23$ and $\\beta=54,649.9$ in the gamma (GA) distribution, and using $N=30$ equally spaced bins, approximate the percent of the population with an income less than \\\\$75,000 using the midpoint rule, trapezoid rule, and Simpson's rule. The analytical expression for this percentage is given by the following integral.\n",
    "\n",
    "$$ \\int_0^{75,000}f(x;\\alpha,\\beta)dx $$\n",
    "\n",
    "Report your values for this approximated itegral for the midpoint rule, trapezoid rule, and Simpson's rule, respectively."
   ]
  },
  {
   "cell_type": "code",
   "execution_count": 62,
   "metadata": {},
   "outputs": [],
   "source": [
    "def calculate_integral(fn, a, b, N, method):\n",
    "    if method == \"midpoint\":\n",
    "        pts = [a + (b - a) / N * (i + 1/2) for i in range(N)]\n",
    "        res = np.sum(fn(i) for i in pts) * (b - a) / N\n",
    "    elif method == \"trapezoid\":\n",
    "        pts = [a + (b - a) * i / N for i in range(N+1)]\n",
    "        res = (sum(fn(i) for i in pts) + sum(fn(i) for i in pts[1:-1])) * (b - a) / (2 * N)\n",
    "    elif method == \"simpsons\":\n",
    "        pts = [a + (b - a) * i / (2 * N) for i in range(2 * N + 1)]\n",
    "        res = ((b - a) / (6 * N)) *(fn(pts[0]) + fn(pts[-1]) + 4 * sum(fn(i) for i in pts[1:-1:2]) + 2 * sum(fn(i) for i in pts[2:-1:2]))\n",
    "    return res\n",
    "\n",
    "\n"
   ]
  },
  {
   "cell_type": "code",
   "execution_count": 63,
   "metadata": {},
   "outputs": [
    {
     "name": "stdout",
     "output_type": "stream",
     "text": [
      "approximated itegral for the midpoint rule: 0.6658937754128379\n",
      "approximated itegral for the trapezoid rule: 0.6565135570466718\n",
      "approximated itegral for the Simpson's rule: 0.6627670359574491\n"
     ]
    },
    {
     "name": "stderr",
     "output_type": "stream",
     "text": [
      "/Users/luyongfei/Desktop/python/anaconda3/lib/python3.7/site-packages/ipykernel_launcher.py:4: DeprecationWarning: Calling np.sum(generator) is deprecated, and in the future will give a different result. Use np.sum(np.fromiter(generator)) or the python sum builtin instead.\n",
      "  after removing the cwd from sys.path.\n"
     ]
    }
   ],
   "source": [
    "a, b, N = 0, 75000, 30\n",
    "GApdf_b = lambda x: GA_pdf(x, 1.23,  54649.9)\n",
    "mid = calculate_integral(GApdf_b, a, b, N, 'midpoint')\n",
    "trp = calculate_integral(GApdf_b, a, b, N, 'trapezoid')\n",
    "sp = calculate_integral(GApdf_b, a, b, N, 'simpsons')\n",
    "print('approximated itegral for the midpoint rule:', mid)\n",
    "print('approximated itegral for the trapezoid rule:', trp)\n",
    "print(\"approximated itegral for the Simpson's rule:\", sp)"
   ]
  },
  {
   "cell_type": "markdown",
   "metadata": {},
   "source": [
    "## 1c) Use Gaussian quadrature to approximate the integral [3 points]\n",
    "Use gaussian quadrature using the `scipy.integrate.quad()` command to approximate the percent of the population that earns less than \\\\$75,000 assuming that the population income is distributed according to the gamma (GA) distribution with parameter values $\\alpha=1.23$ and $\\beta=54,649.9$. Report your percentage that you calculated using Gaussian quadrature."
   ]
  },
  {
   "cell_type": "code",
   "execution_count": 64,
   "metadata": {},
   "outputs": [],
   "source": [
    "from scipy.integrate import quad"
   ]
  },
  {
   "cell_type": "code",
   "execution_count": 65,
   "metadata": {},
   "outputs": [
    {
     "name": "stdout",
     "output_type": "stream",
     "text": [
      "Percentage calculated using Gaussian quadrature: 0.6646972256281289\n"
     ]
    }
   ],
   "source": [
    "GApdf_c = lambda x: GA_pdf(x, 1.23,  54649.9)\n",
    "quad_apprx = quad(GApdf_c, 0, 75000)[0]\n",
    "print('Percentage calculated using Gaussian quadrature:', quad_apprx)"
   ]
  },
  {
   "cell_type": "markdown",
   "metadata": {},
   "source": [
    "# 2. Generalized method of moments estimation [10 points total]\n",
    "Suppose that your friend at the Bureau of Labor Statistics told you the following four moments (statistics) of the U.S. household income distribution in the third column of the table.\n",
    "\n",
    "| Income range | Number of households |Percent of population |\n",
    "| :--- | ---: | :---: |\n",
    "| Less than \\\\$10,000 | 9,233 | 7.6\\% |\n",
    "| \\\\$10,000 to \\\\$100,000 | 86,431 | 71.4\\% |\n",
    "| \\\\$100,000 to \\\\$160,000 | 16,347 | 13.5\\% |\n",
    "| Greater than \\\\$160,000 | 9,074 | 7.5\\% |\n",
    "\n",
    "Assume that these incomes are generated by the lognormal distribution, specified by the following probability density function (PDF).\n",
    "\n",
    "\\begin{equation*}\n",
    "\\begin{split}\n",
    "&(LN) \\quad f(x|\\mu,\\sigma) = \\frac{1}{x\\sigma\\sqrt{2\\pi}}e^{-\\frac{[\\ln(x)] - \\mu]^2}{2\\sigma^2}} \\\\\n",
    "&\\quad\\quad\\quad\\text{for}\\quad x>0, \\quad -\\infty<\\mu<\\infty, \\quad\\text{and}\\quad \\sigma>0\n",
    "\\end{split}\n",
    "\\end{equation*}"
   ]
  },
  {
   "cell_type": "markdown",
   "metadata": {},
   "source": [
    "One could plot a histogram of the information in the table above using the following code that imports the original data `hh_inc_synth.txt` from which the histogram was generated. (NOTE that you will not need to use the original data except for plotting fitted distributions over this histogram using the exact code below.)"
   ]
  },
  {
   "cell_type": "code",
   "execution_count": 66,
   "metadata": {},
   "outputs": [
    {
     "data": {
      "text/plain": [
       "Text(0, 0.5, 'Density (area sums to 1)')"
      ]
     },
     "execution_count": 66,
     "metadata": {},
     "output_type": "execute_result"
    },
    {
     "data": {
      "image/png": "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\n",
      "text/plain": [
       "<Figure size 432x288 with 1 Axes>"
      ]
     },
     "metadata": {
      "needs_background": "light"
     },
     "output_type": "display_data"
    }
   ],
   "source": [
    "import numpy as np\n",
    "import matplotlib.pyplot as plt\n",
    "\n",
    "hh_inc_synth = np.loadtxt('data/hh_inc_synth.txt')\n",
    "\n",
    "bin_bound_list = [0, 10000, 100000, 160000, 350000]\n",
    "bin_widths = np.array([10000, 90000, 60000, 190000])\n",
    "N = len(hh_inc_synth)\n",
    "weight_inc = np.zeros(N)\n",
    "in_bin_1 = hh_inc_synth <= 10000\n",
    "in_bin_2 = (hh_inc_synth > 10000) * (hh_inc_synth <= 100000)\n",
    "in_bin_3 = (hh_inc_synth > 100000) * (hh_inc_synth <= 160000)\n",
    "in_bin_4 = hh_inc_synth > 160000\n",
    "weight_inc[in_bin_1] = 1 / (N * 10000)\n",
    "weight_inc[in_bin_2] = 1 / (N * 90000)\n",
    "weight_inc[in_bin_3] = 1 / (N * 60000)\n",
    "weight_inc[in_bin_4] = 1 / (N * 190000)\n",
    "\n",
    "n, bin_cuts, patches = \\\n",
    "    plt.hist(hh_inc_synth, bin_bound_list, edgecolor='black',\n",
    "             weights=weight_inc, label='data histogram')\n",
    "plt.title(r'Histogram of household income: $N=121,085$',\n",
    "          fontsize=13)\n",
    "plt.xticks(np.array([0, 10000, 100000, 160000, 350000]),\n",
    "           ('$0', '$10', '$100', '$160', '$350'))\n",
    "plt.xlabel(r'Household income (\\$000)')\n",
    "plt.ylabel(r'Density (area sums to 1)')"
   ]
  },
  {
   "cell_type": "markdown",
   "metadata": {},
   "source": [
    "Some python code for the PDF of the lognormal distribution is the following."
   ]
  },
  {
   "cell_type": "code",
   "execution_count": 67,
   "metadata": {},
   "outputs": [],
   "source": [
    "def LN_pdf(xvals, mu, sigma):\n",
    "    '''\n",
    "    --------------------------------------------------------------------\n",
    "    This function gives the PDF of the lognormal distribution for xvals\n",
    "    given mu and sigma\n",
    "\n",
    "    (LN): f(x; mu, sigma) = (1 / (x * sigma * sqrt(2 * pi))) *\n",
    "            exp((-1 / 2) * (((log(x) - mu) / sigma) ** 2))\n",
    "            x in [0, infty), mu in (-infty, infty), sigma > 0\n",
    "    --------------------------------------------------------------------\n",
    "    INPUTS:\n",
    "    xvals = (N,) vector, data\n",
    "    mu    = scalar, mean of the ln(x)\n",
    "    sigma = scalar > 0, standard deviation of ln(x)\n",
    "\n",
    "    OTHER FUNCTIONS AND FILES CALLED BY THIS FUNCTION: None\n",
    "\n",
    "    OBJECTS CREATED WITHIN FUNCTION:\n",
    "    pdf_vals        = (N,) vector, probability of each observation given\n",
    "                      the parameter values\n",
    "\n",
    "    FILES CREATED BY THIS FUNCTION: None\n",
    "\n",
    "    RETURNS: pdf_vals\n",
    "    --------------------------------------------------------------------\n",
    "    '''\n",
    "    pdf_vals = np.float64(((1 / (np.sqrt(2 * np.pi) * sigma * xvals)) *\n",
    "                          np.exp((-1.0 / 2.0) *\n",
    "                          (((np.log(xvals) - mu) / sigma) ** 2))))\n",
    "\n",
    "    return pdf_vals"
   ]
  },
  {
   "cell_type": "markdown",
   "metadata": {},
   "source": [
    "The following will help you to calculate your model moments. Using numerical integration of the PDF of the log normal distribution in your GMM minimization problem takes too long. The following method uses the cummulative distribution function (CDF). For a given $\\mu$ and $\\sigma$ of the log normal distribution, you can calculate the percent of a distribution between a lower bound `LB` and upper bound `UB` of income using the following code."
   ]
  },
  {
   "cell_type": "code",
   "execution_count": null,
   "metadata": {},
   "outputs": [],
   "source": [
    "import scipy.stats as sts\n",
    "\n",
    "pct_LBtoUB = (sts.lognorm.cdf(UB, s=sigma, scale=np.exp(mu)) -\n",
    "              sts.lognorm.cdf(LB, s=sigma, scale=np.exp(mu)))"
   ]
  },
  {
   "cell_type": "markdown",
   "metadata": {},
   "source": [
    "## 2a) Plot a log normal distribution with the histogram (2 points)\n",
    "Plot a log normal distribution with mean $\\mu=11.5$ and $\\sigma=0.9$ using the `LN_pdf()` code for the lognorm PDF above. Plot the log normal distribution over the histogram using the histogram code above. Make sure to use the same `x`-axis and `y`-axis labels as in the histogram plot above. Make sure to put a legend in the upper-right corner."
   ]
  },
  {
   "cell_type": "code",
   "execution_count": 68,
   "metadata": {},
   "outputs": [
    {
     "name": "stderr",
     "output_type": "stream",
     "text": [
      "/Users/luyongfei/Desktop/python/anaconda3/lib/python3.7/site-packages/ipykernel_launcher.py:27: RuntimeWarning: divide by zero encountered in true_divide\n",
      "/Users/luyongfei/Desktop/python/anaconda3/lib/python3.7/site-packages/ipykernel_launcher.py:29: RuntimeWarning: divide by zero encountered in log\n",
      "/Users/luyongfei/Desktop/python/anaconda3/lib/python3.7/site-packages/ipykernel_launcher.py:29: RuntimeWarning: invalid value encountered in multiply\n"
     ]
    },
    {
     "data": {
      "image/png": "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\n",
      "text/plain": [
       "<Figure size 432x288 with 1 Axes>"
      ]
     },
     "metadata": {
      "needs_background": "light"
     },
     "output_type": "display_data"
    }
   ],
   "source": [
    "bin_bound_list = [0, 10000, 100000, 160000, 350000]\n",
    "bin_widths = np.array([10000, 90000, 60000, 190000])\n",
    "N = len(hh_inc_synth)\n",
    "weight_inc = np.zeros(N)\n",
    "in_bin_1 = hh_inc_synth <= 10000\n",
    "in_bin_2 = (hh_inc_synth > 10000) * (hh_inc_synth <= 100000)\n",
    "in_bin_3 = (hh_inc_synth > 100000) * (hh_inc_synth <= 160000)\n",
    "in_bin_4 = hh_inc_synth > 160000\n",
    "weight_inc[in_bin_1] = 1 / (N * 10000)\n",
    "weight_inc[in_bin_2] = 1 / (N * 90000)\n",
    "weight_inc[in_bin_3] = 1 / (N * 60000)\n",
    "weight_inc[in_bin_4] = 1 / (N * 190000)\n",
    "\n",
    "n, bin_cuts, patches = \\\n",
    "    plt.hist(hh_inc_synth, bin_bound_list, edgecolor='black',\n",
    "             weights=weight_inc, label='data histogram')\n",
    "plt.title(r'Histogram of household income: $N=121,085$',\n",
    "          fontsize=13)\n",
    "plt.xticks(np.array([0, 10000, 100000, 160000, 350000]),\n",
    "           ('$0', '$10', '$100', '$160', '$350'))\n",
    "plt.xlabel(r'Household income (\\$000)')\n",
    "plt.ylabel(r'Density (area sums to 1)')\n",
    "\n",
    "\n",
    "dist_pts = np.linspace(0, 350000, 5000)\n",
    "mu_a, sig_b = 11.5, 0.9\n",
    "plt.plot(dist_pts, LN_pdf(dist_pts, mu_a, sig_b),\n",
    "        linewidth=2, color='r', label='$\\mu = 11.5$, $\\sigma = 0.9$')\n",
    "\n",
    "plt.legend(loc='upper right')\n",
    "plt.show()"
   ]
  },
  {
   "cell_type": "markdown",
   "metadata": {},
   "source": [
    "## 2b) GMM estimation with identity weighting matrix (8 points)\n",
    "Using the four moments in the table above fit the log normal distribution to the income data using GMM and the identity matix for the optimal weighting matrix. More specifically, estimate $\\mu$ and $\\sigma$ from the log normal distribution to match the percentage moments in the third column of the table above with the income bin cutoffs listed in the first column of the table above. Report your estimates $\\mu_{GMM1}$ and $\\sigma_{GMM1}$, criterion function value, data moments, and model moments at your estimated parameter values. Plot your estimated log normal distribution on top of the histogram of the data given in the code above. [**HINT:** Use the log normal CDF approach described above to calculate your model moments. Using numerical integrals will take too long.]"
   ]
  },
  {
   "cell_type": "code",
   "execution_count": 70,
   "metadata": {},
   "outputs": [],
<<<<<<< HEAD
   "source": [
    "bpct_1_dat, bpct_2_dat, bpct_3_dat, bpct_4_dat = 0.076, 0.714, 0.135, 0.075\n",
    "\n",
    "def model_moments4(mu, sigma):\n",
    "    pct_LBtoUB = lambda UB, LB: (sts.lognorm.cdf(UB, s=sigma, scale=np.exp(mu)) -\n",
    "              sts.lognorm.cdf(LB, s=sigma, scale=np.exp(mu)))\n",
    "    \n",
    "    bpct_1_mod = pct_LBtoUB(10000, 0)\n",
    "    bpct_2_mod = pct_LBtoUB(100000, 10000)\n",
    "    bpct_3_mod = pct_LBtoUB(160000, 100000)\n",
    "    bpct_4_mod = pct_LBtoUB(350000, 160000)\n",
    "    \n",
    "    return bpct_1_mod, bpct_2_mod, bpct_3_mod,bpct_4_mod\n",
    "\n",
    "def err_vec4(xvals, mu, sigma, simple):\n",
    "    moms_data = np.array([[bpct_1_dat], [bpct_2_dat], [bpct_3_dat], [bpct_4_dat]])\n",
    "    bpct_1_mod, bpct_2_mod, bpct_3_mod, bpct_4_mod= model_moments4(mu, sigma)\n",
    "    moms_model = np.array([[bpct_1_mod], [bpct_2_mod], [bpct_3_mod], [bpct_4_mod]])\n",
    "    if simple:\n",
    "        err_vec = moms_model - moms_data\n",
    "    else:\n",
    "        err_vec = (moms_model - moms_data) / moms_data\n",
    "    \n",
    "    return err_vec\n",
    "\n",
    "def criterion4(params, *args):\n",
    "    mu, sigma = params\n",
    "    xvals, W = args\n",
    "    err = err_vec4(xvals, mu, sigma, simple=False)\n",
    "    crit_val = err.T @ W @ err \n",
    "    \n",
    "    return crit_val\n",
    "\n"
   ]
  },
  {
   "cell_type": "code",
   "execution_count": 71,
   "metadata": {},
   "outputs": [
    {
     "name": "stdout",
     "output_type": "stream",
     "text": [
      "mu_GMM = 10.682302864543601  sig_GMM = 1.0145418112599072\n",
      "GMM criterion function: [[0.04993966]]\n",
      "Error vector: [-0.0340944   0.00856753 -0.21074221  0.0655099 ]\n"
     ]
    },
    {
     "data": {
      "text/html": [
       "<div>\n",
       "<style scoped>\n",
       "    .dataframe tbody tr th:only-of-type {\n",
       "        vertical-align: middle;\n",
       "    }\n",
       "\n",
       "    .dataframe tbody tr th {\n",
       "        vertical-align: top;\n",
       "    }\n",
       "\n",
       "    .dataframe thead th {\n",
       "        text-align: right;\n",
       "    }\n",
       "</style>\n",
       "<table border=\"1\" class=\"dataframe\">\n",
       "  <thead>\n",
       "    <tr style=\"text-align: right;\">\n",
       "      <th></th>\n",
       "      <th>Data Moments</th>\n",
       "      <th>Model Moments</th>\n",
       "    </tr>\n",
       "  </thead>\n",
       "  <tbody>\n",
       "    <tr>\n",
       "      <th>Percent &lt; 10000</th>\n",
       "      <td>0.076</td>\n",
       "      <td>0.073409</td>\n",
       "    </tr>\n",
       "    <tr>\n",
       "      <th>Percent 10000~100000</th>\n",
       "      <td>0.714</td>\n",
       "      <td>0.720117</td>\n",
       "    </tr>\n",
       "    <tr>\n",
       "      <th>Percent 100000~160000</th>\n",
       "      <td>0.135</td>\n",
       "      <td>0.106550</td>\n",
       "    </tr>\n",
       "    <tr>\n",
       "      <th>Percent &gt; 160000</th>\n",
       "      <td>0.075</td>\n",
       "      <td>0.079913</td>\n",
       "    </tr>\n",
       "  </tbody>\n",
       "</table>\n",
       "</div>"
      ],
      "text/plain": [
       "                       Data Moments  Model Moments\n",
       "Percent < 10000               0.076       0.073409\n",
       "Percent 10000~100000          0.714       0.720117\n",
       "Percent 100000~160000         0.135       0.106550\n",
       "Percent > 160000              0.075       0.079913"
      ]
     },
     "execution_count": 71,
     "metadata": {},
     "output_type": "execute_result"
    }
   ],
   "source": [
    "import scipy.optimize as opt\n",
    "import pandas as pd\n",
    "W_hat = np.eye(4)\n",
    "params_init = np.array([11.5, 0.9 ])\n",
    "gmm_args = (hh_inc_synth, W_hat)\n",
    "res = opt.minimize(criterion4, params_init, args=(gmm_args),\n",
    "                   tol=1e-13, method='L-BFGS-B',\n",
    "                   bounds=((1e-10, None),(1e-10, None)))\n",
    "mu_GMM, sig_GMM = res.x\n",
    "print('mu_GMM =', mu_GMM, ' sig_GMM =', sig_GMM)\n",
    "print('GMM criterion function:',res.fun)\n",
    "err = err_vec4(hh_inc_synth, mu_GMM, sig_GMM, False).reshape(4,)\n",
    "print('Error vector:', err)\n",
    "\n",
    "pert1, pert2, pert3, pert4 = model_moments4(mu_GMM, sig_GMM)\n",
    "bpct = np.array([bpct_1_dat, bpct_2_dat, bpct_3_dat, bpct_4_dat])\n",
    "pert = np.array([pert1, pert2, pert3, pert4])\n",
    "df = pd.DataFrame({'Data Moments': bpct, 'Model Moments':pert},\n",
    "                 index = ['Percent < 10000  ','Percent 10000~100000','Percent 100000~160000', 'Percent > 160000'])\n",
    "df"
   ]
  },
  {
   "cell_type": "code",
   "execution_count": 73,
   "metadata": {},
   "outputs": [
    {
     "name": "stderr",
     "output_type": "stream",
     "text": [
      "/Users/luyongfei/Desktop/python/anaconda3/lib/python3.7/site-packages/ipykernel_launcher.py:27: RuntimeWarning: divide by zero encountered in true_divide\n",
      "/Users/luyongfei/Desktop/python/anaconda3/lib/python3.7/site-packages/ipykernel_launcher.py:29: RuntimeWarning: divide by zero encountered in log\n",
      "/Users/luyongfei/Desktop/python/anaconda3/lib/python3.7/site-packages/ipykernel_launcher.py:29: RuntimeWarning: invalid value encountered in multiply\n"
     ]
    },
    {
     "data": {
      "image/png": "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\n",
      "text/plain": [
       "<Figure size 432x288 with 1 Axes>"
      ]
     },
     "metadata": {
      "needs_background": "light"
     },
     "output_type": "display_data"
    }
   ],
   "source": [
    "bin_bound_list = [0, 10000, 100000, 160000, 350000]\n",
    "bin_widths = np.array([10000, 90000, 60000, 190000])\n",
    "N = len(hh_inc_synth)\n",
    "weight_inc = np.zeros(N)\n",
    "in_bin_1 = hh_inc_synth <= 10000\n",
    "in_bin_2 = (hh_inc_synth > 10000) * (hh_inc_synth <= 100000)\n",
    "in_bin_3 = (hh_inc_synth > 100000) * (hh_inc_synth <= 160000)\n",
    "in_bin_4 = hh_inc_synth > 160000\n",
    "weight_inc[in_bin_1] = 1 / (N * 10000)\n",
    "weight_inc[in_bin_2] = 1 / (N * 90000)\n",
    "weight_inc[in_bin_3] = 1 / (N * 60000)\n",
    "weight_inc[in_bin_4] = 1 / (N * 190000)\n",
    "\n",
    "n, bin_cuts, patches = \\\n",
    "    plt.hist(hh_inc_synth, bin_bound_list, edgecolor='black',\n",
    "             weights=weight_inc, label='data histogram')\n",
    "plt.title(r'Histogram of household income: $N=121,085$',\n",
    "          fontsize=13)\n",
    "plt.xticks(np.array([0, 10000, 100000, 160000, 350000]),\n",
    "           ('$0', '$10', '$100', '$160', '$350'))\n",
    "plt.xlabel(r'Household income (\\$000)')\n",
    "plt.ylabel(r'Density (area sums to 1)')\n",
    "\n",
    "\n",
    "dist_pts = np.linspace(0, 350000, 50000)\n",
    "plt.plot(dist_pts, LN_pdf(dist_pts, mu_GMM, sig_GMM),\n",
    "        linewidth=2, color='r', label='$\\mu_{GMM}$, $\\sigma_{GMM}$')\n",
    "\n",
    "plt.legend(loc='upper right')\n",
    "plt.show()"
   ]
  },
  {
   "cell_type": "markdown",
   "metadata": {},
   "source": [
    "## 2c) GMM estimation with two-step optimal weighting matrix (3 points)\n",
    "Using the four moments in the table above fit the log normal distribution to the income data using GMM and the two-step optimal weighting matrix. More specifically, estimate $\\mu$ and $\\sigma$ from the log normal distribution to match the percentage moments in the third column of the table above with the income bin cutoffs listed in the first column of the table above. Report your estimates $\\mu_{GMM2}$ and $\\sigma_{GMM2}$, criterion function value, data moments, and model moments at your estimated parameter values. Plot your estimated log normal distribution on top of the histogram of the data given in the code above. [**HINT:** Use the log normal CDF approach described above to calculate your model moments. Using numerical integrals will take too long.]"
   ]
  },
  {
   "cell_type": "code",
   "execution_count": null,
   "metadata": {},
   "outputs": [],
=======
>>>>>>> 864b88657745e27c85cd379cfdafbd04226b2b8e
   "source": []
  }
 ],
 "metadata": {
  "kernelspec": {
   "display_name": "Python 3",
   "language": "python",
   "name": "python3"
  },
  "language_info": {
   "codemirror_mode": {
    "name": "ipython",
    "version": 3
   },
   "file_extension": ".py",
   "mimetype": "text/x-python",
   "name": "python",
   "nbconvert_exporter": "python",
   "pygments_lexer": "ipython3",
   "version": "3.7.3"
  }
 },
 "nbformat": 4,
 "nbformat_minor": 2
}
