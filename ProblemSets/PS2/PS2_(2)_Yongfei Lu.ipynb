{
 "cells": [
  {
   "cell_type": "markdown",
   "metadata": {},
   "source": [
    "# PS2 Numerical Integration\n",
    "### Yongfei Lu  (Jan. 14th, 2020)"
   ]
  },
  {
   "cell_type": "markdown",
   "metadata": {},
   "source": [
    "## Exercise 2.1"
   ]
  },
  {
   "cell_type": "code",
   "execution_count": 159,
   "metadata": {},
   "outputs": [],
   "source": [
    "def calculate_integral(fn, a, b, N, method):\n",
    "    if method == \"midpoint\":\n",
    "        pts = [a + (b - a) / N * (i + 1/2) for i in range(N)]\n",
    "        res = np.sum(fn(i) for i in pts) * (b - a) / N\n",
    "    elif method == \"trapezoid\":\n",
    "        pts = [a + (b - a) * i / N for i in range(N+1)]\n",
    "        res = (sum(fn(i) for i in pts) + sum(fn(i) for i in pts[1:-1])) * (b - a) / (2 * N)\n",
    "    elif method == \"simpsons\":\n",
    "        pts = [a + (b - a) * i / (2 * N) for i in range(2 * N + 1)]\n",
    "        res = ((b - a) / (6 * N)) *(fn(pts[0]) + fn(pts[-1]) + 4 * sum(fn(i) for i in pts[1:-1:2]) + 2 * sum(fn(i) for i in pts[2:-1:2]))\n",
    "    return res\n"
   ]
  },
  {
   "cell_type": "code",
   "execution_count": 172,
   "metadata": {},
   "outputs": [
    {
     "name": "stderr",
     "output_type": "stream",
     "text": [
      "/Users/luyongfei/Desktop/python/anaconda3/lib/python3.7/site-packages/ipykernel_launcher.py:4: DeprecationWarning: Calling np.sum(generator) is deprecated, and in the future will give a different result. Use np.sum(np.fromiter(generator)) or the python sum builtin instead.\n",
      "  after removing the cwd from sys.path.\n"
     ]
    }
   ],
   "source": [
    "import sympy as sy\n",
    "import numpy as np\n",
    "from matplotlib import pyplot as plt\n",
    "\n",
    "\n",
    "x = sy.symbols('x')\n",
    "f = 0.1 * x ** 4 - 1.5 * x ** 3 + 0.53 * x ** 2 + 2 * x + 1\n",
    "F = sy.integrate(f)\n",
    "a, b= -10, 10\n",
    "\n",
    "f = sy.lambdify(x, f)\n",
    "F = sy.lambdify(x, F)\n",
    "true = F(b) - F(a)\n",
    "\n",
    "abs_error = {}\n",
    "for m in ['midpoint', 'trapezoid', 'simpsons']:\n",
    "    for N in range(20, 201):\n",
    "        abs_error[m] = abs_error.get(m, [])\n",
    "        abs_error[m].append(abs(calculate_integral(f, a, b, N, m) - true))\n",
    "\n",
    "\n",
    "\n",
    "errors = np.array(list(abs_error.values()))\n"
   ]
  },
  {
   "cell_type": "code",
   "execution_count": 181,
   "metadata": {},
   "outputs": [
    {
     "data": {
      "text/plain": [
       "Text(0, 0.5, 'Absolute errors')"
      ]
     },
     "execution_count": 181,
     "metadata": {},
     "output_type": "execute_result"
    },
    {
     "data": {
      "image/png": "[encoded data removed]",
      "text/plain": [
       "<Figure size 432x288 with 1 Axes>"
      ]
     },
     "metadata": {
      "needs_background": "light"
     },
     "output_type": "display_data"
    }
   ],
   "source": [
    "N = np.arange(20, 201, 1)\n",
    "for m, errs in abs_error.items():\n",
    "    plt.plot(N, np.array(errs), label = m)\n",
    "plt.legend()\n",
    "plt.xlabel(\"N values\")\n",
    "plt.ylabel(\"Absolute errors\")"
   ]
  },
  {
   "cell_type": "markdown",
   "metadata": {},
   "source": [
    "## Exercise 2.2"
   ]
  },
  {
   "cell_type": "code",
   "execution_count": 84,
   "metadata": {},
   "outputs": [],
   "source": [
    "import scipy as sp\n",
    "import numpy as np\n",
    "from scipy.stats import lognorm\n",
    "from scipy.stats import norm\n",
    "import pandas as pd\n",
    "\n",
    "\n",
    "def calculate_integral_norm(mu, sigma, N, k):\n",
    "    Z = np.linspace(mu - k * sigma, mu + k * sigma, N)\n",
    "    weight = np.ones(N)\n",
    "    weight[0] = norm.cdf((Z[0] + Z[1]) / 2, mu, sigma)\n",
    "    weight[-1] = 1 - norm.cdf((Z[-2] + Z[-1]) / 2, mu, sigma)\n",
    "    for i in range(1, N-1):\n",
    "        ub = norm.cdf((Z[i+1] + Z[i]) / 2, mu, sigma)\n",
    "        lb = norm.cdf((Z[i-1] + Z[i]) / 2, mu, sigma)\n",
    "        weight[i] = ub - lb\n",
    "    return weight, Z"
   ]
  },
  {
   "cell_type": "code",
   "execution_count": 85,
   "metadata": {},
   "outputs": [
    {
     "data": {
      "text/html": [
       "<div>\n",
       "<style scoped>\n",
       "    .dataframe tbody tr th:only-of-type {\n",
       "        vertical-align: middle;\n",
       "    }\n",
       "\n",
       "    .dataframe tbody tr th {\n",
       "        vertical-align: top;\n",
       "    }\n",
       "\n",
       "    .dataframe thead th {\n",
       "        text-align: right;\n",
       "    }\n",
       "</style>\n",
       "<table border=\"1\" class=\"dataframe\">\n",
       "  <thead>\n",
       "    <tr style=\"text-align: right;\">\n",
       "      <th></th>\n",
       "      <th>Z</th>\n",
       "      <th>weight</th>\n",
       "    </tr>\n",
       "  </thead>\n",
       "  <tbody>\n",
       "    <tr>\n",
       "      <th>0</th>\n",
       "      <td>0.5</td>\n",
       "      <td>0.003467</td>\n",
       "    </tr>\n",
       "    <tr>\n",
       "      <th>1</th>\n",
       "      <td>1.4</td>\n",
       "      <td>0.014397</td>\n",
       "    </tr>\n",
       "    <tr>\n",
       "      <th>2</th>\n",
       "      <td>2.3</td>\n",
       "      <td>0.048943</td>\n",
       "    </tr>\n",
       "    <tr>\n",
       "      <th>3</th>\n",
       "      <td>3.2</td>\n",
       "      <td>0.117253</td>\n",
       "    </tr>\n",
       "    <tr>\n",
       "      <th>4</th>\n",
       "      <td>4.1</td>\n",
       "      <td>0.198028</td>\n",
       "    </tr>\n",
       "    <tr>\n",
       "      <th>5</th>\n",
       "      <td>5.0</td>\n",
       "      <td>0.235823</td>\n",
       "    </tr>\n",
       "    <tr>\n",
       "      <th>6</th>\n",
       "      <td>5.9</td>\n",
       "      <td>0.198028</td>\n",
       "    </tr>\n",
       "    <tr>\n",
       "      <th>7</th>\n",
       "      <td>6.8</td>\n",
       "      <td>0.117253</td>\n",
       "    </tr>\n",
       "    <tr>\n",
       "      <th>8</th>\n",
       "      <td>7.7</td>\n",
       "      <td>0.048943</td>\n",
       "    </tr>\n",
       "    <tr>\n",
       "      <th>9</th>\n",
       "      <td>8.6</td>\n",
       "      <td>0.014397</td>\n",
       "    </tr>\n",
       "    <tr>\n",
       "      <th>10</th>\n",
       "      <td>9.5</td>\n",
       "      <td>0.003467</td>\n",
       "    </tr>\n",
       "  </tbody>\n",
       "</table>\n",
       "</div>"
      ],
      "text/plain": [
       "      Z    weight\n",
       "0   0.5  0.003467\n",
       "1   1.4  0.014397\n",
       "2   2.3  0.048943\n",
       "3   3.2  0.117253\n",
       "4   4.1  0.198028\n",
       "5   5.0  0.235823\n",
       "6   5.9  0.198028\n",
       "7   6.8  0.117253\n",
       "8   7.7  0.048943\n",
       "9   8.6  0.014397\n",
       "10  9.5  0.003467"
      ]
     },
     "execution_count": 85,
     "metadata": {},
     "output_type": "execute_result"
    },
    {
     "data": {
      "image/png": "[encoded data removed]",
      "text/plain": [
       "<Figure size 432x288 with 1 Axes>"
      ]
     },
     "metadata": {
      "needs_background": "light"
     },
     "output_type": "display_data"
    }
   ],
   "source": [
    "weight, Z = calculate_integral_norm(5, 1.5, 11, 3)\n",
    "df = pd.DataFrame({'Z':Z, 'weight': weight})\n",
    "plt.plot(Z, weight, label = \"Newto-Cotes approximation\")\n",
    "plt.legend()\n",
    "df"
   ]
  },
  {
   "cell_type": "markdown",
   "metadata": {},
   "source": [
    "## Exercise 2.3"
   ]
  },
  {
   "cell_type": "code",
   "execution_count": 182,
   "metadata": {},
   "outputs": [],
   "source": [
    "def calculate_integral_lognorm(mu, sigma, N, k):\n",
    "    weight, Z = calculate_integral_norm(mu, sigma, N, k)\n",
    "    A = np.exp(Z)\n",
    "    return weight, A\n",
    "    "
   ]
  },
  {
   "cell_type": "code",
   "execution_count": 183,
   "metadata": {},
   "outputs": [
    {
     "data": {
      "text/html": [
       "<div>\n",
       "<style scoped>\n",
       "    .dataframe tbody tr th:only-of-type {\n",
       "        vertical-align: middle;\n",
       "    }\n",
       "\n",
       "    .dataframe tbody tr th {\n",
       "        vertical-align: top;\n",
       "    }\n",
       "\n",
       "    .dataframe thead th {\n",
       "        text-align: right;\n",
       "    }\n",
       "</style>\n",
       "<table border=\"1\" class=\"dataframe\">\n",
       "  <thead>\n",
       "    <tr style=\"text-align: right;\">\n",
       "      <th></th>\n",
       "      <th>A</th>\n",
       "      <th>weight</th>\n",
       "    </tr>\n",
       "  </thead>\n",
       "  <tbody>\n",
       "    <tr>\n",
       "      <th>0</th>\n",
       "      <td>1.648721</td>\n",
       "      <td>0.003467</td>\n",
       "    </tr>\n",
       "    <tr>\n",
       "      <th>1</th>\n",
       "      <td>4.055200</td>\n",
       "      <td>0.014397</td>\n",
       "    </tr>\n",
       "    <tr>\n",
       "      <th>2</th>\n",
       "      <td>9.974182</td>\n",
       "      <td>0.048943</td>\n",
       "    </tr>\n",
       "    <tr>\n",
       "      <th>3</th>\n",
       "      <td>24.532530</td>\n",
       "      <td>0.117253</td>\n",
       "    </tr>\n",
       "    <tr>\n",
       "      <th>4</th>\n",
       "      <td>60.340288</td>\n",
       "      <td>0.198028</td>\n",
       "    </tr>\n",
       "    <tr>\n",
       "      <th>5</th>\n",
       "      <td>148.413159</td>\n",
       "      <td>0.235823</td>\n",
       "    </tr>\n",
       "    <tr>\n",
       "      <th>6</th>\n",
       "      <td>365.037468</td>\n",
       "      <td>0.198028</td>\n",
       "    </tr>\n",
       "    <tr>\n",
       "      <th>7</th>\n",
       "      <td>897.847292</td>\n",
       "      <td>0.117253</td>\n",
       "    </tr>\n",
       "    <tr>\n",
       "      <th>8</th>\n",
       "      <td>2208.347992</td>\n",
       "      <td>0.048943</td>\n",
       "    </tr>\n",
       "    <tr>\n",
       "      <th>9</th>\n",
       "      <td>5431.659591</td>\n",
       "      <td>0.014397</td>\n",
       "    </tr>\n",
       "    <tr>\n",
       "      <th>10</th>\n",
       "      <td>13359.726830</td>\n",
       "      <td>0.003467</td>\n",
       "    </tr>\n",
       "  </tbody>\n",
       "</table>\n",
       "</div>"
      ],
      "text/plain": [
       "               A    weight\n",
       "0       1.648721  0.003467\n",
       "1       4.055200  0.014397\n",
       "2       9.974182  0.048943\n",
       "3      24.532530  0.117253\n",
       "4      60.340288  0.198028\n",
       "5     148.413159  0.235823\n",
       "6     365.037468  0.198028\n",
       "7     897.847292  0.117253\n",
       "8    2208.347992  0.048943\n",
       "9    5431.659591  0.014397\n",
       "10  13359.726830  0.003467"
      ]
     },
     "execution_count": 183,
     "metadata": {},
     "output_type": "execute_result"
    },
    {
     "data": {
      "image/png": "[encoded data removed]",
      "text/plain": [
       "<Figure size 432x288 with 1 Axes>"
      ]
     },
     "metadata": {
      "needs_background": "light"
     },
     "output_type": "display_data"
    }
   ],
   "source": [
    "weight, A = calculate_integral_lognorm(5, 1.5, 11, 3)\n",
    "\n",
    "df = pd.DataFrame({'A': A, 'weight': weight})\n",
    "plt.plot(A, weight, label = \"Discrete approximation\")\n",
    "plt.legend()\n",
    "df"
   ]
  },
  {
   "cell_type": "markdown",
   "metadata": {},
   "source": [
    "## Exercise 2.4"
   ]
  },
  {
   "cell_type": "code",
   "execution_count": 88,
   "metadata": {},
   "outputs": [
    {
     "name": "stdout",
     "output_type": "stream",
     "text": [
      "exact expected value: 50011.0870\n",
      "approximate expected value: 50352.4562\n",
      "difference: 341.3692\n"
     ]
    }
   ],
   "source": [
    "mu, sigma, N, k = 10.5, 0.8, 11, 3\n",
    "actual = np.exp(mu + sigma ** 2 / 2)\n",
    "weight, A = calculate_integral_lognorm(mu, sigma, N, k)\n",
    "apprx = sum(weight * A)\n",
    "print(\"exact expected value: {:0.4f}\".format(actual))\n",
    "print(\"approximate expected value: {:0.4f}\".format(apprx))\n",
    "print(\"difference: {:.4f}\".format(apprx - actual))"
   ]
  },
  {
   "cell_type": "markdown",
   "metadata": {},
   "source": [
    "## Exercise 3.1"
   ]
  },
  {
   "cell_type": "code",
   "execution_count": 89,
   "metadata": {},
   "outputs": [
    {
     "name": "stdout",
     "output_type": "stream",
     "text": [
      "True integral value:4373.333333333333\n",
      "Gaussian approximate: 4373.333333333334\n",
      "Gaussian absolute error:9.094947017729282e-13\n",
      "Newto-Cotes absolute error:[0.00013686670172319282, 0.00027373334978619823, 1.8189894035458565e-11]\n"
     ]
    }
   ],
   "source": [
    "f = lambda x: 0.1 * x ** 4 - 1.5 * x ** 3 + 0.53 * x ** 2 + 2 * x + 1\n",
    "a, b, N = -10, 10, 3\n",
    "# according to https://pomax.github.io/bezierinfo/legendre-gauss.html, for N = 3\n",
    "ws = [8/9, 5/9, 5/9]\n",
    "xs = [0, -0.7745966692414834, 0.7745966692414834]\n",
    "c, d = (b - a) / 2, (b + a) / 2\n",
    "gau_apprx = 0\n",
    "for i in range(N):\n",
    "    gau_apprx += ws[i] * f(c * xs[i] + d)\n",
    "gau_apprx *= c\n",
    "true = 4373 + 1/3\n",
    "print('True integral value:{}'.format(true))\n",
    "print('Gaussian approximate: {}'.format(gau_apprx))\n",
    "print('Gaussian absolute error:{}'.format(abs(gau_apprx - true)))\n",
    "print('Newto-Cotes absolute error:{}'.format(errors))"
   ]
  },
  {
   "cell_type": "markdown",
   "metadata": {},
   "source": [
    "In this case, we see that the Gaussian formula outperforms the alternative Newton-Cotes formula in terms of accuracy."
   ]
  },
  {
   "cell_type": "markdown",
   "metadata": {},
   "source": [
    "## Exercise 3.2"
   ]
  },
  {
   "cell_type": "code",
   "execution_count": 97,
   "metadata": {},
   "outputs": [
    {
     "name": "stdout",
     "output_type": "stream",
     "text": [
      "Numerically approximate integral value using scipy.integrate.quad: 4373.333333333334\n",
      "Compared to the known analytical value, the absolute error of this method is 9.094947017729282e-13\n"
     ]
    }
   ],
   "source": [
    "quad_apprx = quad(f, a, b)[0]\n",
    "print(\"Numerically approximate integral value using scipy.integrate.quad: {}\".format(quad_apprx))\n",
    "print(\"Compared to the known analytical value, the absolute error of this method is {}\".format(abs(quad_apprx - true)))\n"
   ]
  },
  {
   "cell_type": "markdown",
   "metadata": {},
   "source": [
    "## Exercise 4.1"
   ]
  },
  {
   "cell_type": "code",
   "execution_count": 126,
   "metadata": {},
   "outputs": [],
   "source": [
    "import scipy.stats as sts\n",
    "\n",
    "def integrate_MonteCarlo(fn, domain, N):\n",
    "    # \"scipy.stats just uses numpy.random to generate\n",
    "    # its random numbers, so numpy.random.seed() will\n",
    "    # work here as well.\" \n",
    "    # cite from [https://stackoverflow.com/questions/\n",
    "    # 16016959/scipy-stats-seed]\n",
    "    np.random.seed(seed = 25)\n",
    "    x_scl = domain[0][1] - domain[0][0]\n",
    "    y_scl = domain[1][1] - domain[1][0]\n",
    "    x_lb, y_lb = domain[0][0], domain[1][0]\n",
    "    x_draws = sts.uniform.rvs(x_lb, x_scl, size = N)\n",
    "    y_draws = sts.uniform.rvs(y_lb, y_scl, size = N)\n",
    "    \n",
    "    fn_sum = 0\n",
    "    for i in range(N):\n",
    "        if fn(x_draws[i], y_draws[i]) <= 1:\n",
    "            fn_sum += 1\n",
    "        \n",
    "    return fn_sum * 4 * (1 / N)"
   ]
  },
  {
   "cell_type": "code",
   "execution_count": 132,
   "metadata": {},
   "outputs": [
    {
     "name": "stdout",
     "output_type": "stream",
     "text": [
      "The smallest N meeting the requirement is 1668\n"
     ]
    }
   ],
   "source": [
    "min_N = 1\n",
    "dm= [[-1,1], [-1,1]]\n",
    "g = lambda x, y: x ** 2 + y ** 2\n",
    "while round(integrate_MonteCarlo(g, dm, min_N), 4) != 3.1415:\n",
    "    min_N += 1\n",
    "\n",
    "print(\"The smallest N meeting the requirement is\", min_N)\n",
    "    "
   ]
  },
  {
   "cell_type": "markdown",
   "metadata": {},
   "source": [
    "## Exercise 4.2"
   ]
  },
  {
   "cell_type": "code",
   "execution_count": 146,
   "metadata": {},
   "outputs": [],
   "source": [
    "import math\n",
    "def isPrime(n):\n",
    "    for i in range(2, int(np.sqrt(n) + 1)):\n",
    "        if n % i == 0:\n",
    "            return False\n",
    "    return True\n",
    "\n",
    "def primes_ascend(N, min_val=2):\n",
    "    primes_vec = np.zeros(N, dtype=int)\n",
    "    MinIsEven = 1 - min_val % 2\n",
    "    MinIsGrtrThn2 = min_val > 2\n",
    "    curr_prime_ind = 0\n",
    "    if not MinIsGrtrThn2:\n",
    "        i = 2\n",
    "        curr_prime_ind += 1\n",
    "        primes_vec[0] = i\n",
    "    i = min(3, min_val + (MinIsEven * 1))\n",
    "    while curr_prime_ind < N:\n",
    "        if isPrime(i):\n",
    "            curr_prime_ind += 1\n",
    "            primes_vec[curr_prime_ind - 1] = i\n",
    "        i += 2\n",
    "    return primes_vec\n",
    "\n",
    "def gen_equidis_sq(n, d, sq_type):\n",
    "    primes = primes_ascend(d)\n",
    "    if sq_type == \"weyl\":\n",
    "        return [math.modf(i)[0] for i in np.sqrt(primes)*n]\n",
    "    elif sq_type == \"haber\":\n",
    "        return [math.modf(i)[0] for i in np.sqrt(primes) * n * (n+1) / 2]\n",
    "    elif sq_type == \"niederreiter\":\n",
    "        p1 = np.array([2 ** ((i + 1) / (n + 1)) for i in range(d)])\n",
    "        return [math.modf(i)[0] for i in n * p1]\n",
    "    elif sq_type == \"baker\":\n",
    "        p2 = [1 / (i + 1) for i in range(d)]\n",
    "        return [math.modf(i)[0] for i in n * np.exp(p2)]\n",
    "    else:\n",
    "        return None\n",
    "    "
   ]
  },
  {
   "cell_type": "code",
   "execution_count": 148,
   "metadata": {},
   "outputs": [
    {
     "name": "stdout",
     "output_type": "stream",
     "text": [
      "weyl: [0.142135623730951, 0.32050807568877104, 0.36067977499789805]\n"
     ]
    }
   ],
   "source": [
    "print(\"weyl:\", gen_equidis_sq(10, 3, \"weyl\"))"
   ]
  },
  {
   "cell_type": "code",
   "execution_count": 149,
   "metadata": {},
   "outputs": [
    {
     "name": "stdout",
     "output_type": "stream",
     "text": [
      "haber: [0.7817459305202306, 0.2627944162882443, 0.9837387624884428]\n"
     ]
    }
   ],
   "source": [
    "print(\"haber:\", gen_equidis_sq(10, 3, \"haber\"))"
   ]
  },
  {
   "cell_type": "code",
   "execution_count": 150,
   "metadata": {},
   "outputs": [
    {
     "name": "stdout",
     "output_type": "stream",
     "text": [
      "niederreiter: [0.6504108943996272, 0.3431252219546259, 0.08089444404447121]\n"
     ]
    }
   ],
   "source": [
    "print(\"niederreiter:\", gen_equidis_sq(10, 3, \"niederreiter\"))"
   ]
  },
  {
   "cell_type": "code",
   "execution_count": 151,
   "metadata": {},
   "outputs": [
    {
     "name": "stdout",
     "output_type": "stream",
     "text": [
      "baker: [0.18281828459045002, 0.4872127070012837, 0.9561242508608956]\n"
     ]
    }
   ],
   "source": [
    "print(\"baker:\", gen_equidis_sq(10, 3, \"baker\"))"
   ]
  },
  {
   "cell_type": "markdown",
   "metadata": {},
   "source": [
    "## Exercise 4.3"
   ]
  },
  {
   "cell_type": "code",
   "execution_count": 152,
   "metadata": {},
   "outputs": [],
   "source": [
    "g = lambda x, y: x ** 2 + y ** 2 <= 1\n",
    "def integrate_qsMonteCarlo(fn, domain, N, sq_type):\n",
    "    np.random.seed(25)\n",
    "    x_lb, x_ub = domain[0][0], domain[0][1]\n",
    "    x_dff = x_ub - x_lb\n",
    "    y_lb, y_ub = domain[1][0], domain[1][1]\n",
    "    y_dff = y_ub - y_lb\n",
    "    if sq_type == \"weyl\":\n",
    "        xs = [x_dff * gen_equidis_sq(i, 2, \"weyl\")[0] + x_lb for i in range(N)]\n",
    "        ys = [y_dff * gen_equidis_sq(i, 2, \"weyl\")[1] + y_lb for i in range(N)]\n",
    "    elif sq_type == \"haber\":\n",
    "        xs = [x_dff * gen_equidis_sq(i, 2, \"haber\")[0] + x_lb for i in range(N)]\n",
    "        ys = [y_dff * gen_equidis_sq(i, 2, \"haber\")[1] + y_lb for i in range(N)]\n",
    "    elif sq_type == \"niederreiter\":\n",
    "        xs = [x_dff * gen_equidis_sq(i, 2, \"niederreiter\")[0] + x_lb for i in range(N)]\n",
    "        ys = [y_dff * gen_equidis_sq(i, 2, \"niederreiter\")[1] + y_lb for i in range(N)]\n",
    "    elif sq_type == \"baker\":\n",
    "        xs = [x_dff * gen_equidis_sq(i, 2, \"baker\")[0] + x_lb for i in range(N)]\n",
    "        ys = [y_dff * gen_equidis_sq(i, 2, \"baker\")[1] + y_lb for i in range(N)]\n",
    "    return (x_dff * y_dff) * np.sum(fn(np.array(xs),np.array(ys))) / N\n",
    "\n",
    "\n"
   ]
  },
  {
   "cell_type": "code",
   "execution_count": 153,
   "metadata": {},
   "outputs": [
    {
     "name": "stdout",
     "output_type": "stream",
     "text": [
      "The smallest N for weyl method is 1230\n"
     ]
    }
   ],
   "source": [
    "min_N, pi = 1, 3.1415\n",
    "dm = [[-1, 1], [-1, 1]]\n",
    "\n",
    "while round(integrate_qsMonteCarlo(g, dm, min_N, \"weyl\"), 4) != pi:\n",
    "    min_N += 1\n",
    "print(\"The smallest N for weyl method is\", min_N)"
   ]
  },
  {
   "cell_type": "code",
   "execution_count": 154,
   "metadata": {},
   "outputs": [
    {
     "name": "stdout",
     "output_type": "stream",
     "text": [
      "The smallest N for haber method is 2064\n"
     ]
    }
   ],
   "source": [
    "min_N = 1\n",
    "while round(integrate_qsMonteCarlo(g, dm, min_N, \"haber\"), 4) != pi:\n",
    "    min_N += 1\n",
    "print(\"The smallest N for haber method is\", min_N)"
   ]
  },
  {
   "cell_type": "code",
   "execution_count": null,
   "metadata": {},
   "outputs": [],
   "source": [
    "min_N = 1\n",
    "while round(integrate_qsMonteCarlo(g, dm, min_N, \"niederreiter\"), 4) != pi:\n",
    "    min_N += 1\n",
    "    if min_N > 5000:\n",
    "        print(\"Niederreiter's smallest N is too large to count\")"
   ]
  },
  {
   "cell_type": "code",
   "execution_count": 156,
   "metadata": {},
   "outputs": [
    {
     "name": "stdout",
     "output_type": "stream",
     "text": [
      "The smallest N for baker method is 205\n"
     ]
    }
   ],
   "source": [
    "min_N = 1\n",
    "while round(integrate_qsMonteCarlo(g, dm, min_N, \"baker\"), 4) != pi:\n",
    "    min_N += 1\n",
    "print(\"The smallest N for baker method is\", min_N)"
   ]
  },
  {
   "cell_type": "markdown",
   "metadata": {},
   "source": [
    "Clearly, in terms of convergence rate, baker method ranks first, followed respectively by weyl, haber. Niederreiter method is the worst, since we cannot even calculate the smallest N within reasonable time using the algorithom of the same complexity as the other methods."
   ]
  }
 ],
 "metadata": {
  "kernelspec": {
   "display_name": "Python 3",
   "language": "python",
   "name": "python3"
  },
  "language_info": {
   "codemirror_mode": {
    "name": "ipython",
    "version": 3
   },
   "file_extension": ".py",
   "mimetype": "text/x-python",
   "name": "python",
   "nbconvert_exporter": "python",
   "pygments_lexer": "ipython3",
   "version": "3.7.3"
  }
 },
 "nbformat": 4,
 "nbformat_minor": 2
}
